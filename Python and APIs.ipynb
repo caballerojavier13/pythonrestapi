{
 "cells": [
  {
   "cell_type": "markdown",
   "metadata": {},
   "source": [
    "# REST API\n",
    "\n",
    "REST (Representational State Transfer) APIs are a common way to share information between programs. REST APIs use regular HTTP URLs such as http://google.com and the HTTP verbs (GET, PUT, POST, DELETE) to request and send information. There are two kinds of APIs, public and private. A public API is something like the Twitter API, where the API is documented for third party developers to use. A private API would be like Snapchat's API, which is meant to only be used by the official Snapchat app. However, private APIs can be reverse engineered and documented.\n",
    "\n",
    "An example would be `GET http://api.example.com/weather/32611`. The request would retrieve the weather information on Gainesville. The `GET` portion is the HTTP verb, and the `http://api.example.com/weather/32611` is the API endpoint, or URL.\n",
    "\n",
    "HTTP Verb Definitions:\n",
    "- GET: Retrieves information based on given parameters\n",
    "- PUT: Stores information in a specific location\n",
    "- POST: Send information in to be stored\n",
    "- DELETE: Deletes a given piece of information\n",
    "\n",
    "![Visual Example](https://i.imgur.com/rjH9wNe.jpg)\n",
    "\n",
    "## Why REST APIs are Important\n",
    "\n",
    "Almost all new services being created are taking advantage of APIs, both public and private. Understanding REST APIs is becoming expected of not just IT professionals, but almost everyone else involved in business.\n",
    "\n",
    "Additionally, REST APIs make life easier when it comes to creating a product. The REST API handles all of your business logic, such as signing a user in or having a user post a status update. Anything connected to the internet can take advantage of your API, meaning mobile apps, web apps, desktop programs and more will all interact with the same logic."
   ]
  },
  {
   "cell_type": "markdown",
   "metadata": {},
   "source": [
    "## Python Requests\n",
    "\n",
    "Requests is a simple Python library that makes HTTP requests easy.\n",
    "\n",
    "First, we need to import the Requests library (also called a package). Importing a library allows you to access functions and classes from other files."
   ]
  },
  {
   "cell_type": "code",
   "execution_count": null,
   "metadata": {
    "collapsed": false
   },
   "outputs": [],
   "source": []
  },
  {
   "cell_type": "markdown",
   "metadata": {},
   "source": [
    "Now we can call `GET` on `https://rest.ryansheppard.me` or our *root endpoint*"
   ]
  },
  {
   "cell_type": "code",
   "execution_count": null,
   "metadata": {
    "collapsed": false
   },
   "outputs": [],
   "source": []
  },
  {
   "cell_type": "code",
   "execution_count": null,
   "metadata": {
    "collapsed": false
   },
   "outputs": [],
   "source": []
  },
  {
   "cell_type": "markdown",
   "metadata": {},
   "source": [
    "**JSON** (JavaScript Object Notation) is a common format that REST APIs utilize to send and recieve data. The format is a key-value store, similar to Python dictionaries."
   ]
  },
  {
   "cell_type": "code",
   "execution_count": null,
   "metadata": {
    "collapsed": false
   },
   "outputs": [],
   "source": []
  },
  {
   "cell_type": "code",
   "execution_count": null,
   "metadata": {
    "collapsed": false
   },
   "outputs": [],
   "source": []
  },
  {
   "cell_type": "code",
   "execution_count": null,
   "metadata": {
    "collapsed": false
   },
   "outputs": [],
   "source": []
  },
  {
   "cell_type": "code",
   "execution_count": null,
   "metadata": {
    "collapsed": true
   },
   "outputs": [],
   "source": []
  },
  {
   "cell_type": "code",
   "execution_count": null,
   "metadata": {
    "collapsed": false
   },
   "outputs": [],
   "source": []
  },
  {
   "cell_type": "markdown",
   "metadata": {},
   "source": [
    "### Parameters\n",
    "\n",
    "`GET https://rest.ryansheppard.me/gatortech/<name>`"
   ]
  },
  {
   "cell_type": "code",
   "execution_count": null,
   "metadata": {
    "collapsed": true
   },
   "outputs": [],
   "source": []
  },
  {
   "cell_type": "code",
   "execution_count": null,
   "metadata": {
    "collapsed": false
   },
   "outputs": [],
   "source": []
  },
  {
   "cell_type": "markdown",
   "metadata": {},
   "source": [
    "## Twitter API and Tweepy\n",
    "Some APIs are popular enough to have their own libraries, such as Tweepy for Twitter. While the library is ultimately using a REST API, Tweepy provides a *wrapper* that makes the Twitter API easier to handle.\n",
    "\n",
    "If you do not have Tweepy run `pip install tweepy` inside the Anaconda Command Prompt on Windows, or Terminal on OS X/Linux.\n",
    "\n",
    "First we need to import the library and authenticate our account."
   ]
  },
  {
   "cell_type": "code",
   "execution_count": null,
   "metadata": {
    "collapsed": false
   },
   "outputs": [],
   "source": []
  },
  {
   "cell_type": "markdown",
   "metadata": {},
   "source": [
    "The code below downloads a Python file containing Twitter API tokens, and sets up Tweepy to use those API tokens. Normally, you would have to generate these tokens yourself but that can be time consuming."
   ]
  },
  {
   "cell_type": "code",
   "execution_count": 12,
   "metadata": {
    "collapsed": false
   },
   "outputs": [],
   "source": [
    "# Create a file and write the contents of config.py to it\n",
    "with open('config.py', 'wb') as f:\n",
    "    r = requests.get('https://ryansheppard.xyz/config.py', stream=True)\n",
    "    # Stream helps with big files, but can be used anytime\n",
    "    for block in r.iter_content(1024):\n",
    "        f.write(block)\n",
    "\n",
    "# Import all of the variables from config.py\n",
    "from config import *\n",
    "\n",
    "# Set up the tweepy api and authenticate\n",
    "auth = tweepy.OAuthHandler(consumer_token, consumer_secret)\n",
    "auth.secure = True\n",
    "auth.set_access_token(access_token, access_secret)\n",
    "api = tweepy.API(auth, wait_on_rate_limit=True, wait_on_rate_limit_notify=True)"
   ]
  },
  {
   "cell_type": "markdown",
   "metadata": {},
   "source": [
    "Create an object called `user` and give it the `get_user` properties."
   ]
  },
  {
   "cell_type": "code",
   "execution_count": null,
   "metadata": {
    "collapsed": false
   },
   "outputs": [],
   "source": []
  },
  {
   "cell_type": "code",
   "execution_count": null,
   "metadata": {
    "collapsed": false
   },
   "outputs": [],
   "source": []
  },
  {
   "cell_type": "code",
   "execution_count": null,
   "metadata": {
    "collapsed": false
   },
   "outputs": [],
   "source": []
  },
  {
   "cell_type": "code",
   "execution_count": null,
   "metadata": {
    "collapsed": false
   },
   "outputs": [],
   "source": []
  },
  {
   "cell_type": "code",
   "execution_count": null,
   "metadata": {
    "collapsed": false
   },
   "outputs": [],
   "source": []
  },
  {
   "cell_type": "markdown",
   "metadata": {},
   "source": [
    "## Resources\n",
    "\n",
    "### Python LIbraries\n",
    "\n",
    "[Requests Documentation](http://docs.python-requests.org/en/master/)\n",
    "\n",
    "[Tweepy Documentation](http://docs.tweepy.org/en/latest/)\n",
    "\n",
    "### REST APIs\n",
    "\n",
    "[Programmable Web](http://www.programmableweb.com/apis/directory)\n",
    "\n",
    "[Public APIs](https://www.publicapis.com/)\n",
    "\n",
    "### Creating a REST API\n",
    "\n",
    "[Python and Flask-RESTful](http://blog.miguelgrinberg.com/post/designing-a-restful-api-with-python-and-flask)"
   ]
  }
 ],
 "metadata": {
  "kernelspec": {
   "display_name": "Python 3",
   "language": "python",
   "name": "python3"
  },
  "language_info": {
   "codemirror_mode": {
    "name": "ipython",
    "version": 3
   },
   "file_extension": ".py",
   "mimetype": "text/x-python",
   "name": "python",
   "nbconvert_exporter": "python",
   "pygments_lexer": "ipython3",
   "version": "3.5.1"
  }
 },
 "nbformat": 4,
 "nbformat_minor": 0
}
