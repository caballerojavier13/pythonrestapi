{
 "cells": [
  {
   "cell_type": "markdown",
   "metadata": {},
   "source": [
    "# REST API\n",
    "\n",
    "REST (Representational State Transfer) APIs are a common way to share information between programs. REST APIs use regular HTTP URLs such as http://google.com and the HTTP verbs (GET, PUT, POST, DELETE) to request and send information. There are two kinds of APIs, public and private. A public API is something like the Twitter API, where the API is documented for third party developers to use. A private API would be like Snapchat's API, which is meant to only be used by the official Snapchat app. However, private APIs can be reverse engineered and documented.\n",
    "\n",
    "An example would be `GET http://api.example.com/weather/32611`. The request would retrieve the weather information on Gainesville. \n",
    "\n",
    "HTTP Verb Definitions:\n",
    "- GET: Retrieves information based on given parameters\n",
    "- PUT: Stores information in a specific location\n",
    "- POST: Send information in to be stored\n",
    "- DELETE: Deletes a given piece of information\n",
    "\n",
    "![Visual Example](https://i.imgur.com/rjH9wNe.jpg)\n",
    "\n",
    "## Why REST APIs are Important\n",
    "\n",
    "Almost all new services being created are taking advantage of APIs, both public and private. Understanding REST APIs is becoming expected of not just IT professionals, but almost everyone else involved in business.\n",
    "\n",
    "Additionally, REST APIs make life easier when it comes to creating a product. The REST API handles all of your business logic, such as signing a user in or having a user post a status update. Anything connected to the internet can take advantage of your API, meaning mobile apps, web apps, desktop programs and more will all interact with the same logic."
   ]
  },
  {
   "cell_type": "markdown",
   "metadata": {},
   "source": [
    "## Python Requests\n",
    "\n",
    "Requests is a simple Python library that makes HTTP requests easy."
   ]
  },
  {
   "cell_type": "code",
   "execution_count": 2,
   "metadata": {
    "collapsed": false
   },
   "outputs": [],
   "source": [
    "import requests"
   ]
  },
  {
   "cell_type": "code",
   "execution_count": 3,
   "metadata": {
    "collapsed": false
   },
   "outputs": [],
   "source": [
    "r = requests.get('https://rest.ryansheppard.me')"
   ]
  },
  {
   "cell_type": "code",
   "execution_count": 4,
   "metadata": {
    "collapsed": false
   },
   "outputs": [
    {
     "data": {
      "text/plain": [
       "200"
      ]
     },
     "execution_count": 4,
     "metadata": {},
     "output_type": "execute_result"
    }
   ],
   "source": [
    "r.status_code"
   ]
  },
  {
   "cell_type": "code",
   "execution_count": 5,
   "metadata": {
    "collapsed": false
   },
   "outputs": [
    {
     "data": {
      "text/plain": [
       "{'message': 'Hi'}"
      ]
     },
     "execution_count": 5,
     "metadata": {},
     "output_type": "execute_result"
    }
   ],
   "source": [
    "r.json()"
   ]
  },
  {
   "cell_type": "markdown",
   "metadata": {},
   "source": [
    "### Arguments"
   ]
  },
  {
   "cell_type": "code",
   "execution_count": 8,
   "metadata": {
    "collapsed": true
   },
   "outputs": [],
   "source": [
    "r = requests.get('https://rest.ryansheppard.me/gatortech/Ryan')"
   ]
  },
  {
   "cell_type": "code",
   "execution_count": 9,
   "metadata": {
    "collapsed": false
   },
   "outputs": [
    {
     "data": {
      "text/plain": [
       "{'message': 'Hi Ryan'}"
      ]
     },
     "execution_count": 9,
     "metadata": {},
     "output_type": "execute_result"
    }
   ],
   "source": [
    "r.json()"
   ]
  },
  {
   "cell_type": "markdown",
   "metadata": {},
   "source": [
    "## Twitter API and Tweepy\n",
    "Some APIs are popular enough to have their own libraries, such as Tweepy for Twitter. While the library is ultimately using a REST API, Tweepy provides a *wrapper* that makes the Twitter API easier to handle."
   ]
  },
  {
   "cell_type": "code",
   "execution_count": 18,
   "metadata": {
    "collapsed": false
   },
   "outputs": [],
   "source": [
    "import tweepy"
   ]
  },
  {
   "cell_type": "code",
   "execution_count": 34,
   "metadata": {
    "collapsed": false
   },
   "outputs": [],
   "source": [
    "# Create a file and write the contents of config.py to it\n",
    "with open('config.py', 'wb') as f:\n",
    "    r = requests.get('https://ryansheppard.xyz/config.py', stream=True)\n",
    "    # Stream helps with big files, but can be used anytime\n",
    "    for block in r.iter_content(1024):\n",
    "        f.write(block)\n",
    "\n",
    "# Import all of the variable from config.py\n",
    "from config import *\n",
    "\n",
    "# Set up the tweepy api and authenticate\n",
    "auth = tweepy.OAuthHandler(consumer_token, consumer_secret)\n",
    "auth.secure = True\n",
    "auth.set_access_token(access_token, access_secret)\n",
    "api = tweepy.API(auth, wait_on_rate_limit=True, wait_on_rate_limit_notify=True)"
   ]
  },
  {
   "cell_type": "code",
   "execution_count": 35,
   "metadata": {
    "collapsed": false
   },
   "outputs": [
    {
     "data": {
      "text/plain": [
       "True"
      ]
     },
     "execution_count": 35,
     "metadata": {},
     "output_type": "execute_result"
    }
   ],
   "source": [
    "api.get_user('kanyewest').verified"
   ]
  },
  {
   "cell_type": "code",
   "execution_count": null,
   "metadata": {
    "collapsed": false
   },
   "outputs": [],
   "source": []
  },
  {
   "cell_type": "code",
   "execution_count": null,
   "metadata": {
    "collapsed": true
   },
   "outputs": [],
   "source": []
  }
 ],
 "metadata": {
  "kernelspec": {
   "display_name": "Python 3",
   "language": "python",
   "name": "python3"
  },
  "language_info": {
   "codemirror_mode": {
    "name": "ipython",
    "version": 3
   },
   "file_extension": ".py",
   "mimetype": "text/x-python",
   "name": "python",
   "nbconvert_exporter": "python",
   "pygments_lexer": "ipython3",
   "version": "3.5.1"
  }
 },
 "nbformat": 4,
 "nbformat_minor": 0
}
