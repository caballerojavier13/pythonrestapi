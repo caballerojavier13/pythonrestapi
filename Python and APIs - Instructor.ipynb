{
 "cells": [
  {
   "cell_type": "markdown",
   "metadata": {},
   "source": [
    "# REST API\n",
    "\n",
    "REST (Representational State Transfer) APIs are a common way to share information between programs. REST APIs use regular HTTP URLs such as http://google.com and the HTTP verbs (GET, PUT, POST, DELETE) to request and send information. There are two kinds of APIs, public and private. A public API is something like the Twitter API, where the API is documented for third party developers to use. A private API would be like Snapchat's API, which is meant to only be used by the official Snapchat app. However, private APIs can be reverse engineered and documented.\n",
    "\n",
    "An example would be `GET http://api.example.com/weather/32611`. The request would retrieve the weather information on Gainesville. \n",
    "\n",
    "HTTP Verb Definitions:\n",
    "- GET: Retrieves information based on given parameters\n",
    "- PUT: Stores information in a specific location\n",
    "- POST: Send information in to be stored\n",
    "- DELETE: Deletes a given piece of information\n",
    "\n",
    "![Visual Example](https://i.imgur.com/rjH9wNe.jpg)\n",
    "\n",
    "## Why REST APIs are Important\n",
    "\n",
    "Almost all new services being created are taking advantage of APIs, both public and private. Understanding REST APIs is becoming expected of not just IT professionals, but almost everyone else involved in business.\n",
    "\n",
    "Additionally, REST APIs make life easier when it comes to creating a product. The REST API handles all of your business logic, such as signing a user in or having a user post a status update. Anything connected to the internet can take advantage of your API, meaning mobile apps, web apps, desktop programs and more will all interact with the same logic."
   ]
  },
  {
   "cell_type": "markdown",
   "metadata": {},
   "source": [
    "## Python Requests\n",
    "\n",
    "Requests is a simple Python library that makes HTTP requests easy."
   ]
  },
  {
   "cell_type": "code",
   "execution_count": 1,
   "metadata": {
    "collapsed": false
   },
   "outputs": [],
   "source": [
    "import requests"
   ]
  },
  {
   "cell_type": "code",
   "execution_count": 2,
   "metadata": {
    "collapsed": false
   },
   "outputs": [],
   "source": [
    "r = requests.get('https://rest.ryansheppard.me')"
   ]
  },
  {
   "cell_type": "code",
   "execution_count": 3,
   "metadata": {
    "collapsed": false
   },
   "outputs": [
    {
     "data": {
      "text/plain": [
       "200"
      ]
     },
     "execution_count": 3,
     "metadata": {},
     "output_type": "execute_result"
    }
   ],
   "source": [
    "r.status_code"
   ]
  },
  {
   "cell_type": "markdown",
   "metadata": {},
   "source": [
    "**JSON** (JavaScript Object Notation) is a common format that REST APIs utilize to send and recieve data. The format is a key-value store, similar to Python dictionaries."
   ]
  },
  {
   "cell_type": "code",
   "execution_count": 4,
   "metadata": {
    "collapsed": false
   },
   "outputs": [
    {
     "data": {
      "text/plain": [
       "{'message': 'Hi'}"
      ]
     },
     "execution_count": 4,
     "metadata": {},
     "output_type": "execute_result"
    }
   ],
   "source": [
    "r.json()"
   ]
  },
  {
   "cell_type": "code",
   "execution_count": 5,
   "metadata": {
    "collapsed": false
   },
   "outputs": [],
   "source": [
    "r = requests.post('https://rest.ryansheppard.me/gatortech')"
   ]
  },
  {
   "cell_type": "code",
   "execution_count": 6,
   "metadata": {
    "collapsed": false
   },
   "outputs": [
    {
     "data": {
      "text/plain": [
       "{'message': 'POSTed'}"
      ]
     },
     "execution_count": 6,
     "metadata": {},
     "output_type": "execute_result"
    }
   ],
   "source": [
    "r.json()"
   ]
  },
  {
   "cell_type": "code",
   "execution_count": 7,
   "metadata": {
    "collapsed": true
   },
   "outputs": [],
   "source": [
    "r = requests.get('https://rest.ryansheppard.me/json')"
   ]
  },
  {
   "cell_type": "code",
   "execution_count": 8,
   "metadata": {
    "collapsed": false
   },
   "outputs": [
    {
     "data": {
      "text/plain": [
       "{'key': {'key': 'value'}}"
      ]
     },
     "execution_count": 8,
     "metadata": {},
     "output_type": "execute_result"
    }
   ],
   "source": [
    "r.json()"
   ]
  },
  {
   "cell_type": "markdown",
   "metadata": {},
   "source": [
    "### Arguments"
   ]
  },
  {
   "cell_type": "code",
   "execution_count": 9,
   "metadata": {
    "collapsed": true
   },
   "outputs": [],
   "source": [
    "r = requests.get('https://rest.ryansheppard.me/gatortech/Ryan')"
   ]
  },
  {
   "cell_type": "code",
   "execution_count": 10,
   "metadata": {
    "collapsed": false
   },
   "outputs": [
    {
     "data": {
      "text/plain": [
       "{'message': 'Hi Ryan'}"
      ]
     },
     "execution_count": 10,
     "metadata": {},
     "output_type": "execute_result"
    }
   ],
   "source": [
    "r.json()"
   ]
  },
  {
   "cell_type": "markdown",
   "metadata": {},
   "source": [
    "## Twitter API and Tweepy\n",
    "Some APIs are popular enough to have their own libraries, such as Tweepy for Twitter. While the library is ultimately using a REST API, Tweepy provides a *wrapper* that makes the Twitter API easier to handle."
   ]
  },
  {
   "cell_type": "code",
   "execution_count": 11,
   "metadata": {
    "collapsed": false
   },
   "outputs": [],
   "source": [
    "import tweepy"
   ]
  },
  {
   "cell_type": "code",
   "execution_count": 12,
   "metadata": {
    "collapsed": false
   },
   "outputs": [],
   "source": [
    "# Create a file and write the contents of config.py to it\n",
    "with open('config.py', 'wb') as f:\n",
    "    r = requests.get('https://ryansheppard.xyz/config.py', stream=True)\n",
    "    # Stream helps with big files, but can be used anytime\n",
    "    for block in r.iter_content(1024):\n",
    "        f.write(block)\n",
    "\n",
    "# Import all of the variables from config.py\n",
    "from config import *\n",
    "\n",
    "# Set up the tweepy api and authenticate\n",
    "auth = tweepy.OAuthHandler(consumer_token, consumer_secret)\n",
    "auth.secure = True\n",
    "auth.set_access_token(access_token, access_secret)\n",
    "api = tweepy.API(auth, wait_on_rate_limit=True, wait_on_rate_limit_notify=True)"
   ]
  },
  {
   "cell_type": "markdown",
   "metadata": {},
   "source": [
    "Create an object called `user` and give it the `get_user` properties."
   ]
  },
  {
   "cell_type": "code",
   "execution_count": 13,
   "metadata": {
    "collapsed": false
   },
   "outputs": [],
   "source": [
    "# api.get_user(username/id)\n",
    "user = api.get_user('kanyewest')"
   ]
  },
  {
   "cell_type": "code",
   "execution_count": 14,
   "metadata": {
    "collapsed": false
   },
   "outputs": [
    {
     "data": {
      "text/plain": [
       "783"
      ]
     },
     "execution_count": 14,
     "metadata": {},
     "output_type": "execute_result"
    }
   ],
   "source": [
    "user.statuses_count"
   ]
  },
  {
   "cell_type": "code",
   "execution_count": 15,
   "metadata": {
    "collapsed": false
   },
   "outputs": [
    {
     "data": {
      "text/plain": [
       "True"
      ]
     },
     "execution_count": 15,
     "metadata": {},
     "output_type": "execute_result"
    }
   ],
   "source": [
    "user.verified"
   ]
  },
  {
   "cell_type": "code",
   "execution_count": 16,
   "metadata": {
    "collapsed": false
   },
   "outputs": [],
   "source": [
    "statuses = api.user_timeline('kanyewest')"
   ]
  },
  {
   "cell_type": "code",
   "execution_count": 17,
   "metadata": {
    "collapsed": false
   },
   "outputs": [
    {
     "name": "stdout",
     "output_type": "stream",
     "text": [
      "kanyewest - Ultralight Prayer:  https://t.co/CiopQ9BbGl \n",
      "Happy Easter!\n",
      "kanyewest - Young Thug is super inspiring to me. Amazing artist!!! https://t.co/tMh438xqJ8\n",
      "kanyewest - I used an exclamation just to be an asshole and also to make a point! LOL\n",
      "kanyewest - And I used a period because contrary to popular belief I strongly dislike exclamation points!\n",
      "kanyewest - On another note, I strongly dislike suit jackets. I used the word dislike because I hate the word hate.\n",
      "kanyewest - I love you.\n",
      "kanyewest - I have so much love in my heart and we just need the shot to create live breathe.\n",
      "kanyewest - I love you guys.\n",
      "kanyewest - Everyone has made mistakes. I just make them in public.\n",
      "kanyewest - Don't hide from the truth because it is the only light.\n",
      "kanyewest - Don't be mad at the truth. When you don't like me you are merely shooting the messenger.\n",
      "kanyewest - Don't be scared of the truth because we need to restart the human foundation in truth\n",
      "kanyewest - They think we're stupid. They do not know how to communicate.\n",
      "kanyewest - When companies doubt me they doubt us.\n",
      "kanyewest - That dreams will actualize. Dreams will manifest.\n",
      "kanyewest - I have a dream.\n",
      "kanyewest - Eventually the guys with real ideas not running a scam on the world will overcome.\n",
      "kanyewest - They can't kill us all.\n",
      "kanyewest - I speak yell scream directly at the old guard on behalf of the future.\n",
      "kanyewest - The Pablo pop up was almost a pop up of influence.\n"
     ]
    }
   ],
   "source": [
    "for status in statuses:\n",
    "    print(status.author.screen_name + \" - \" + status.text)"
   ]
  }
 ],
 "metadata": {
  "kernelspec": {
   "display_name": "Python 3",
   "language": "python",
   "name": "python3"
  },
  "language_info": {
   "codemirror_mode": {
    "name": "ipython",
    "version": 3
   },
   "file_extension": ".py",
   "mimetype": "text/x-python",
   "name": "python",
   "nbconvert_exporter": "python",
   "pygments_lexer": "ipython3",
   "version": "3.5.1"
  }
 },
 "nbformat": 4,
 "nbformat_minor": 0
}
